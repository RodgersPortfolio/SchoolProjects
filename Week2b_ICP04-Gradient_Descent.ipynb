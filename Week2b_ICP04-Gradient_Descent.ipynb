{
 "cells": [
  {
   "cell_type": "markdown",
   "id": "66d01c8a-f0cd-42af-aff9-8ba0bbd3c47e",
   "metadata": {
    "slideshow": {
     "slide_type": "slide"
    },
    "tags": []
   },
   "source": [
    "# Week 2 Exercise B: ICP04-Gradient Descent\n",
    "# Name: Rodgers Okeyo Ochieng\n",
    "Description: In this practice assignment, you will build upon the model fitting notebook created for WE01 part 2, specifically focusing on the third-order polynomial model. Your task is to update the notebook by incorporating another model, SGDGradientDescent, and comparing its performance to the standard linear regression techniques.\n",
    "\n",
    "You will also incorporate data splitting (cross-validation) to train your model (use an 80/20 split).\n",
    "\n",
    "To start, revisit the model fitting notebook you previously created for the third-order polynomial model. Use previous tutorials to understand and apply data splitting (80% to training, 20% to testing). Also, utilize the official documentation provided at https://scikit-learn.org/stable/modules/generated/sklearn.linear_model.SGDRegressor.htmlLinks to an external site. (Links to an external site) to understand the implementation details of SGDRegressor.\n",
    "\n",
    "Include the necessary code and data processing steps in the notebook to integrate the SGDRegressor model into your analysis. Train and evaluate the SGDRegressor using the same dataset used for the third-order polynomial model (but, this time with the train/test data split). Be sure to include appropriate documentation and comments to facilitate understanding.\n",
    "\n",
    "In the conclusion section of the notebook, provide a detailed description of how well the SGDRegressor performs relative to the standard linear regression techniques employed previously. Analyze and compare the results obtained from both models, considering relevant evaluation metrics and any observed differences in performance. Emphasize any advantages or drawbacks of utilizing the SGDRegressor for the given dataset and task.\n",
    "\n",
    "Lastly, ensure that the SGDRegressor implementation does not include any regularization techniques such as regularization terms or penalties in the model. Stick to the basic implementation provided in the scikit-learn library.\n",
    "\n",
    "When submitting your assignment, include both the original data generation notebook along with the updated notebook incorporating the SGDRegressor model. This will allow us to review the evolution of your work and evaluate your understanding of the concepts covered throughout the course.\n",
    "\n",
    "Feel free to reach out if you have any questions or require additional assistance. Good luck with your analysis!\n",
    "6. Save model"
   ]
  },
  {
   "cell_type": "markdown",
   "id": "049ea964-ba9d-46aa-af88-d13550f27638",
   "metadata": {
    "slideshow": {
     "slide_type": "slide"
    },
    "tags": []
   },
   "source": [
    "## Step 1: Import the libraries we will use in this notebook"
   ]
  },
  {
   "cell_type": "code",
   "execution_count": 1,
   "id": "cca96620-674f-43be-9633-3546127c263b",
   "metadata": {
    "slideshow": {
     "slide_type": "fragment"
    },
    "tags": []
   },
   "outputs": [],
   "source": [
    "import matplotlib.pyplot as plt\n",
    "import numpy as np\n",
    "import pandas as pd\n",
    "from sklearn.linear_model import LinearRegression\n",
    "from sklearn.model_selection import train_test_split\n",
    "from sklearn.linear_model import SGDRegressor\n",
    "from sklearn.metrics import mean_squared_error\n",
    "\n",
    "np.random.seed(8085)"
   ]
  },
  {
   "cell_type": "markdown",
   "id": "31b63237-2a6b-40be-a7c9-9fd854b52339",
   "metadata": {},
   "source": [
    "## Step 2: Load the given data that we will model"
   ]
  },
  {
   "cell_type": "code",
   "execution_count": 2,
   "id": "f3a6a29d",
   "metadata": {},
   "outputs": [
    {
     "data": {
      "text/plain": [
       "<bound method NDFrame.head of              X             y\n",
       "0    16.243454   4254.268313\n",
       "1    -6.117564   -466.079771\n",
       "2    -5.281718    -91.259927\n",
       "3   -10.729686  -1256.937955\n",
       "4     8.654076    488.365975\n",
       "..         ...           ...\n",
       "995  -1.164441     18.445547\n",
       "996 -22.772980 -11731.400655\n",
       "997  -0.696245    -91.811265\n",
       "998   3.538704    105.514465\n",
       "999  -1.869550    134.015065\n",
       "\n",
       "[1000 rows x 2 columns]>"
      ]
     },
     "execution_count": 2,
     "metadata": {},
     "output_type": "execute_result"
    }
   ],
   "source": [
    "df = pd.read_csv('model4dataset.csv')\n",
    "df = df.rename(columns={'input':'X', 'target':'y'})\n",
    "df.head"
   ]
  },
  {
   "cell_type": "markdown",
   "id": "595990e5",
   "metadata": {},
   "source": [
    "# Let me add some noise"
   ]
  },
  {
   "cell_type": "code",
   "execution_count": 3,
   "id": "7815e222-9aae-4b39-999e-689dcea5aeb8",
   "metadata": {},
   "outputs": [
    {
     "data": {
      "text/html": [
       "<div>\n",
       "<style scoped>\n",
       "    .dataframe tbody tr th:only-of-type {\n",
       "        vertical-align: middle;\n",
       "    }\n",
       "\n",
       "    .dataframe tbody tr th {\n",
       "        vertical-align: top;\n",
       "    }\n",
       "\n",
       "    .dataframe thead th {\n",
       "        text-align: right;\n",
       "    }\n",
       "</style>\n",
       "<table border=\"1\" class=\"dataframe\">\n",
       "  <thead>\n",
       "    <tr style=\"text-align: right;\">\n",
       "      <th></th>\n",
       "      <th>X</th>\n",
       "      <th>y</th>\n",
       "    </tr>\n",
       "  </thead>\n",
       "  <tbody>\n",
       "    <tr>\n",
       "      <th>0</th>\n",
       "      <td>12.663937</td>\n",
       "      <td>4254.268313</td>\n",
       "    </tr>\n",
       "    <tr>\n",
       "      <th>1</th>\n",
       "      <td>-25.371722</td>\n",
       "      <td>-466.079771</td>\n",
       "    </tr>\n",
       "    <tr>\n",
       "      <th>2</th>\n",
       "      <td>-2.763725</td>\n",
       "      <td>-91.259927</td>\n",
       "    </tr>\n",
       "  </tbody>\n",
       "</table>\n",
       "</div>"
      ],
      "text/plain": [
       "           X            y\n",
       "0  12.663937  4254.268313\n",
       "1 -25.371722  -466.079771\n",
       "2  -2.763725   -91.259927"
      ]
     },
     "execution_count": 3,
     "metadata": {},
     "output_type": "execute_result"
    }
   ],
   "source": [
    "df['X'] = df['X']+ np.random.normal(0, 10, len(df['X']))\n",
    "\n",
    "df.head(3)"
   ]
  },
  {
   "cell_type": "markdown",
   "id": "f7ccd069",
   "metadata": {},
   "source": [
    "## Create New Columns\n",
    "Create new columns to the table for the second and third polynomial"
   ]
  },
  {
   "cell_type": "code",
   "execution_count": 4,
   "id": "942ad9ce",
   "metadata": {},
   "outputs": [
    {
     "data": {
      "text/plain": [
       "<bound method NDFrame.head of              X             y          X2            X3\n",
       "0    12.663937   4254.268313  160.375303   2030.982756\n",
       "1   -25.371722   -466.079771  643.724299 -16332.394248\n",
       "2    -2.763725    -91.259927    7.638175    -21.109816\n",
       "3   -27.358594  -1256.937955  748.492649 -20477.706268\n",
       "4     8.768046    488.365975   76.878625    674.075292\n",
       "..         ...           ...         ...           ...\n",
       "995  -0.735436     18.445547    0.540867     -0.397773\n",
       "996 -20.615557 -11731.400655  425.001177  -8761.635867\n",
       "997  -9.800241    -91.811265   96.044722   -941.261416\n",
       "998  -3.663032    105.514465   13.417801    -49.149832\n",
       "999 -17.599367    134.015065  309.737703  -5451.187365\n",
       "\n",
       "[1000 rows x 4 columns]>"
      ]
     },
     "execution_count": 4,
     "metadata": {},
     "output_type": "execute_result"
    }
   ],
   "source": [
    "df['X2'] = df['X']**2 #add column for x2\n",
    "df['X3'] = df['X']**3 #add column for x3\n",
    "df.head"
   ]
  },
  {
   "cell_type": "code",
   "execution_count": 5,
   "id": "d8b242eb",
   "metadata": {},
   "outputs": [
    {
     "data": {
      "text/plain": [
       "<bound method NDFrame.head of              X          X2            X3             y\n",
       "0    12.663937  160.375303   2030.982756   4254.268313\n",
       "1   -25.371722  643.724299 -16332.394248   -466.079771\n",
       "2    -2.763725    7.638175    -21.109816    -91.259927\n",
       "3   -27.358594  748.492649 -20477.706268  -1256.937955\n",
       "4     8.768046   76.878625    674.075292    488.365975\n",
       "..         ...         ...           ...           ...\n",
       "995  -0.735436    0.540867     -0.397773     18.445547\n",
       "996 -20.615557  425.001177  -8761.635867 -11731.400655\n",
       "997  -9.800241   96.044722   -941.261416    -91.811265\n",
       "998  -3.663032   13.417801    -49.149832    105.514465\n",
       "999 -17.599367  309.737703  -5451.187365    134.015065\n",
       "\n",
       "[1000 rows x 4 columns]>"
      ]
     },
     "execution_count": 5,
     "metadata": {},
     "output_type": "execute_result"
    }
   ],
   "source": [
    "df = df.reindex({'X','X2','X3','y'}, axis=1)\n",
    "df.head"
   ]
  },
  {
   "cell_type": "markdown",
   "id": "2251b80d-af86-4eb1-87b3-4852081028c3",
   "metadata": {},
   "source": [
    "## Step 3: Explore the given data\n",
    "\n",
    "Often we will do much more than this, but at least look at things using a scatterplot"
   ]
  },
  {
   "cell_type": "code",
   "execution_count": 6,
   "id": "8ba59a2e-a02a-4ea4-a73a-1ac6ba1d0056",
   "metadata": {},
   "outputs": [
    {
     "data": {
      "image/png": "[encoded data removed]",
      "text/plain": [
       "<Figure size 640x480 with 1 Axes>"
      ]
     },
     "metadata": {},
     "output_type": "display_data"
    }
   ],
   "source": [
    "fig = plt.figure()\n",
    "ax = fig.add_subplot()\n",
    "\n",
    "ax.scatter(df['X'],df['y'], color='blue')\n",
    "\n",
    "ax.set_xlabel('X')\n",
    "ax.set_ylabel('y')\n",
    "plt.tight_layout()\n",
    "plt.show()"
   ]
  },
  {
   "cell_type": "markdown",
   "id": "34314da3",
   "metadata": {},
   "source": [
    "## Fit the models\n"
   ]
  },
  {
   "cell_type": "code",
   "execution_count": 7,
   "id": "e88ec745",
   "metadata": {},
   "outputs": [],
   "source": [
    "### split data into Training and Testing\n",
    "X = df[['X','X2','X3']]\n",
    "y = df['y']\n",
    "\n",
    "X_train, X_test, y_train, y_test = train_test_split(X, y, test_size=0.2, random_state=8085)"
   ]
  },
  {
   "cell_type": "code",
   "execution_count": 8,
   "id": "1abf611e",
   "metadata": {},
   "outputs": [
    {
     "data": {
      "text/plain": [
       "(800, 3)"
      ]
     },
     "execution_count": 8,
     "metadata": {},
     "output_type": "execute_result"
    }
   ],
   "source": [
    "X_train.shape"
   ]
  },
  {
   "cell_type": "code",
   "execution_count": 9,
   "id": "f5fe29fb",
   "metadata": {},
   "outputs": [
    {
     "data": {
      "text/plain": [
       "(200, 3)"
      ]
     },
     "execution_count": 9,
     "metadata": {},
     "output_type": "execute_result"
    }
   ],
   "source": [
    "X_test.shape"
   ]
  },
  {
   "cell_type": "markdown",
   "id": "2e1d06be",
   "metadata": {},
   "source": [
    "### Fit the Linear regression with third order polynomial"
   ]
  },
  {
   "cell_type": "code",
   "execution_count": 13,
   "id": "805f77d0",
   "metadata": {},
   "outputs": [],
   "source": [
    "lin_reg=LinearRegression().fit(X_train, y_train)\n",
    "y_predlin = lin_reg.predict(X_test)"
   ]
  },
  {
   "cell_type": "code",
   "execution_count": 14,
   "id": "eba7174c",
   "metadata": {},
   "outputs": [],
   "source": [
    "rmse_lin = mean_squared_error(y_test, lin_reg.predict(X_test)) **0.5"
   ]
  },
  {
   "cell_type": "code",
   "execution_count": 15,
   "id": "8df1b76f",
   "metadata": {},
   "outputs": [
    {
     "data": {
      "image/png": "[encoded data removed]",
      "text/plain": [
       "<Figure size 640x480 with 1 Axes>"
      ]
     },
     "metadata": {},
     "output_type": "display_data"
    }
   ],
   "source": [
    "fig = plt.figure()\n",
    "ax = fig.add_subplot()\n",
    "\n",
    "ax.scatter(X_test['X'],y_test, color='blue')\n",
    "ax.scatter(X_test['X'],y_predlin, color='red')\n",
    "ax.set_xlabel('X')\n",
    "ax.set_ylabel('y')\n",
    "plt.tight_layout()\n",
    "plt.show()"
   ]
  },
  {
   "cell_type": "markdown",
   "id": "5450595c",
   "metadata": {},
   "source": [
    "## Fit the model using the SGDRegressor"
   ]
  },
  {
   "cell_type": "code",
   "execution_count": 21,
   "id": "937fc30f",
   "metadata": {},
   "outputs": [],
   "source": [
    "sgd_reg = SGDRegressor(alpha=0, eta0=1e-8, max_iter=1000)\n",
    "_=sgd_reg.fit(X_train,y_train)\n",
    "y_predsgd = sgd_reg.predict(X_test)"
   ]
  },
  {
   "cell_type": "code",
   "execution_count": 22,
   "id": "a600e736",
   "metadata": {},
   "outputs": [],
   "source": [
    "rmse_sgd = mean_squared_error(y_test,sgd_reg.predict(X_test)) **0.5"
   ]
  },
  {
   "cell_type": "code",
   "execution_count": 23,
   "id": "b0975224",
   "metadata": {},
   "outputs": [
    {
     "data": {
      "image/png": "[encoded data removed]",
      "text/plain": [
       "<Figure size 640x480 with 1 Axes>"
      ]
     },
     "metadata": {},
     "output_type": "display_data"
    }
   ],
   "source": [
    "fig = plt.figure()\n",
    "ax = fig.add_subplot()\n",
    "\n",
    "ax.scatter(X_test['X'],y_test, color='blue')\n",
    "ax.scatter(X_test['X'],y_predsgd, color='red')\n",
    "ax.set_xlabel('X')\n",
    "ax.set_ylabel('y')\n",
    "plt.tight_layout()\n",
    "plt.show()"
   ]
  },
  {
   "cell_type": "markdown",
   "id": "f11799fd",
   "metadata": {},
   "source": [
    "# Conclusion"
   ]
  },
  {
   "cell_type": "code",
   "execution_count": 24,
   "id": "cfc5ffc2",
   "metadata": {},
   "outputs": [
    {
     "name": "stdout",
     "output_type": "stream",
     "text": [
      "the linear Model RMSE: 2,262.85 and the SGD RMSE is: 2,352.72\n"
     ]
    }
   ],
   "source": [
    "print(f\"the linear Model RMSE: {rmse_lin:,.2f} and the SGD RMSE is: {rmse_sgd:,.2f}\")"
   ]
  },
  {
   "cell_type": "markdown",
   "id": "6d70b9dd",
   "metadata": {},
   "source": [
    "When I used the learning rate of 1e-8, the linear model performed better than the SGD model. However hypertuning the learning rate to 1-e10, the SGD model performed better than the linear model. Hypertuning the SGD model to a learning rate of 1-e2 led to a very poor model. The linear model still performs well as it has the lowest RMSE. "
   ]
  }
 ],
 "metadata": {
  "kernelspec": {
   "display_name": "Python 3 (ipykernel)",
   "language": "python",
   "name": "python3"
  },
  "language_info": {
   "codemirror_mode": {
    "name": "ipython",
    "version": 3
   },
   "file_extension": ".py",
   "mimetype": "text/x-python",
   "name": "python",
   "nbconvert_exporter": "python",
   "pygments_lexer": "ipython3",
   "version": "3.10.9"
  },
  "varInspector": {
   "cols": {
    "lenName": 16,
    "lenType": 16,
    "lenVar": 40
   },
   "kernels_config": {
    "python": {
     "delete_cmd_postfix": "",
     "delete_cmd_prefix": "del ",
     "library": "var_list.py",
     "varRefreshCmd": "print(var_dic_list())"
    },
    "r": {
     "delete_cmd_postfix": ") ",
     "delete_cmd_prefix": "rm(",
     "library": "var_list.r",
     "varRefreshCmd": "cat(var_dic_list()) "
    }
   },
   "types_to_exclude": [
    "module",
    "function",
    "builtin_function_or_method",
    "instance",
    "_Feature"
   ],
   "window_display": false
  }
 },
 "nbformat": 4,
 "nbformat_minor": 5
}
