{
 "cells": [
  {
   "cell_type": "code",
   "execution_count": 7,
   "id": "a1336da6",
   "metadata": {},
   "outputs": [
    {
     "name": "stdout",
     "output_type": "stream",
     "text": [
      "Enter your name: ahajas\n",
      "Enter your age: akaka\n",
      "Enter your gender: aajaja\n",
      "Enter your nationality: ajaa\n",
      "Enter your year of birth: ajaka\n",
      "my name is ahajas and I am akaka years old\n"
     ]
    }
   ],
   "source": [
    "class humans:\n",
    "    def __init__(self,name,age,gender,nationality,year_of_birth):\n",
    "        self.name = name\n",
    "        self.age=age\n",
    "        self.gender=gender\n",
    "        self.nationality=nationality\n",
    "        self.year_of_birth=year_of_birth\n",
    "        \n",
    "        \n",
    "    def introduce(self):\n",
    "        introduction = print( f\"Helo  guys how are you my name is {self.name} and I am {self.age} years old\")\n",
    "        return introduction\n",
    "    \n",
    "    \n",
    "name_entry=input(\"Enter your name: \")\n",
    "age_entry=input(\"Enter your age: \")\n",
    "gender_entry=input(\"Enter your gender: \")\n",
    "nationality_entry=input(\"Enter your nationality: \")\n",
    "year_of_birth_entry=input(\"Enter your year of birth: \")\n",
    "albert =humans(name_entry,age_entry,gender_entry,nationality_entry,year_of_birth_entry)\n",
    "albert.introduce()"
   ]
  },
  {
   "cell_type": "code",
   "execution_count": null,
   "id": "481b6d7d",
   "metadata": {},
   "outputs": [],
   "source": []
  }
 ],
 "metadata": {
  "kernelspec": {
   "display_name": "Python 3",
   "language": "python",
   "name": "python3"
  },
  "language_info": {
   "codemirror_mode": {
    "name": "ipython",
    "version": 3
   },
   "file_extension": ".py",
   "mimetype": "text/x-python",
   "name": "python",
   "nbconvert_exporter": "python",
   "pygments_lexer": "ipython3",
   "version": "3.8.8"
  }
 },
 "nbformat": 4,
 "nbformat_minor": 5
}
