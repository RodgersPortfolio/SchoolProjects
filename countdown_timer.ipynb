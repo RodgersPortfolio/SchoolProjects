{
 "cells": [
  {
   "cell_type": "code",
   "execution_count": 1,
   "id": "817a30c5",
   "metadata": {},
   "outputs": [],
   "source": [
    "import threading "
   ]
  },
  {
   "cell_type": "code",
   "execution_count": 2,
   "id": "3eedd53e",
   "metadata": {},
   "outputs": [],
   "source": [
    "import time"
   ]
  },
  {
   "cell_type": "code",
   "execution_count": 3,
   "id": "594d7bcd",
   "metadata": {},
   "outputs": [],
   "source": [
    "import tkinter as tk"
   ]
  },
  {
   "cell_type": "code",
   "execution_count": 4,
   "id": "9228cd39",
   "metadata": {},
   "outputs": [],
   "source": [
    "from win10toast import ToastNotifier"
   ]
  },
  {
   "cell_type": "code",
   "execution_count": null,
   "id": "8d025687",
   "metadata": {},
   "outputs": [],
   "source": [
    "class count_down_timer:\n",
    "    def init(self):\n",
    "        self.root = tk.TK()\n",
    "        self.root.geometry(\"460*220\")\n",
    "        self.root.title(\"Countdown Timer\")\n",
    "        \n",
    "        self.time_entry = tk.Entry(self.root, font=(\"Helvetica\", 30))\n",
    "        self.time_entry.grid(row=0, column=0, columnspan=2, padx=5, paty=5)"
   ]
  }
 ],
 "metadata": {
  "kernelspec": {
   "display_name": "Python 3",
   "language": "python",
   "name": "python3"
  },
  "language_info": {
   "codemirror_mode": {
    "name": "ipython",
    "version": 3
   },
   "file_extension": ".py",
   "mimetype": "text/x-python",
   "name": "python",
   "nbconvert_exporter": "python",
   "pygments_lexer": "ipython3",
   "version": "3.8.8"
  }
 },
 "nbformat": 4,
 "nbformat_minor": 5
}
