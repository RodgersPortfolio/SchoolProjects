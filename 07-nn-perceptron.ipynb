{
 "cells": [
  {
   "cell_type": "markdown",
   "metadata": {},
   "source": [
    "# Demonstration of Preceptron\n",
    "\n",
    "In this notebook, we build a perceptron by hand. This is to support the class slides on Neural Networks -- and to provide students with sample code that illustrates the basics of this algorithm."
   ]
  },
  {
   "cell_type": "code",
   "execution_count": 1,
   "metadata": {},
   "outputs": [],
   "source": [
    "import numpy as np\n",
    "import pandas as pd\n",
    "np.random.seed(1)"
   ]
  },
  {
   "cell_type": "markdown",
   "metadata": {},
   "source": [
    "Synthesize data, two inputs (x1, x2) and one binary target y."
   ]
  },
  {
   "cell_type": "code",
   "execution_count": 2,
   "metadata": {},
   "outputs": [],
   "source": [
    "X = np.array([[1,1],[10,2],[5,3]])\n",
    "y = np.array([0,1,1])"
   ]
  },
  {
   "cell_type": "markdown",
   "metadata": {},
   "source": [
    "create a random vector of weights"
   ]
  },
  {
   "cell_type": "code",
   "execution_count": 3,
   "metadata": {},
   "outputs": [],
   "source": [
    "w = np.random.randint(10, size=2) # start with some random weights"
   ]
  },
  {
   "cell_type": "markdown",
   "metadata": {},
   "source": [
    "Create our activation function (if sum of weighted x1 and x2 values > 0, predict 1, otherwise, predict 0)"
   ]
  },
  {
   "cell_type": "code",
   "execution_count": 4,
   "metadata": {},
   "outputs": [],
   "source": [
    "def activation(X, w):\n",
    "    if sum(X*w) > 0:\n",
    "        return 1\n",
    "    else:\n",
    "        return 0"
   ]
  },
  {
   "cell_type": "markdown",
   "metadata": {},
   "source": [
    "Helper function to test if we have converged. This is indicated by correctly predicting all targets."
   ]
  },
  {
   "cell_type": "code",
   "execution_count": 5,
   "metadata": {},
   "outputs": [],
   "source": [
    "def is_converged(X, w, y):\n",
    "    converged = True\n",
    "    for i in range(len(X)):\n",
    "        if activation(X[i], w) != y[i]:     # if the prediction is wrong\n",
    "            converged = False  # we found at least on wrong prediction, so we know it didn't converge yet\n",
    "    return converged"
   ]
  },
  {
   "cell_type": "markdown",
   "metadata": {},
   "source": [
    "Our perceptron algorithm (with information printed to screen)"
   ]
  },
  {
   "cell_type": "code",
   "execution_count": 6,
   "metadata": {},
   "outputs": [
    {
     "name": "stdout",
     "output_type": "stream",
     "text": [
      "\n",
      "****** Iteration 1\n",
      "entry: x1=1      w1=9      x2=1      w2=5      y=0      y_pred=1      Wrong prediction\n",
      "entry: x1=1      w1=8      x2=1      w2=4      y=0      y_pred=1      error: w's updated\n",
      "entry: x1=10     w1=8      x2=2      w2=4      y=1      y_pred=1      Correct prediction\n",
      "entry: x1=5      w1=8      x2=3      w2=4      y=1      y_pred=1      Correct prediction\n",
      "\n",
      "****** Iteration 2\n",
      "entry: x1=1      w1=8      x2=1      w2=4      y=0      y_pred=1      Wrong prediction\n",
      "entry: x1=1      w1=7      x2=1      w2=3      y=0      y_pred=1      error: w's updated\n",
      "entry: x1=10     w1=7      x2=2      w2=3      y=1      y_pred=1      Correct prediction\n",
      "entry: x1=5      w1=7      x2=3      w2=3      y=1      y_pred=1      Correct prediction\n",
      "\n",
      "****** Iteration 3\n",
      "entry: x1=1      w1=7      x2=1      w2=3      y=0      y_pred=1      Wrong prediction\n",
      "entry: x1=1      w1=6      x2=1      w2=2      y=0      y_pred=1      error: w's updated\n",
      "entry: x1=10     w1=6      x2=2      w2=2      y=1      y_pred=1      Correct prediction\n",
      "entry: x1=5      w1=6      x2=3      w2=2      y=1      y_pred=1      Correct prediction\n",
      "\n",
      "****** Iteration 4\n",
      "entry: x1=1      w1=6      x2=1      w2=2      y=0      y_pred=1      Wrong prediction\n",
      "entry: x1=1      w1=5      x2=1      w2=1      y=0      y_pred=1      error: w's updated\n",
      "entry: x1=10     w1=5      x2=2      w2=1      y=1      y_pred=1      Correct prediction\n",
      "entry: x1=5      w1=5      x2=3      w2=1      y=1      y_pred=1      Correct prediction\n",
      "\n",
      "****** Iteration 5\n",
      "entry: x1=1      w1=5      x2=1      w2=1      y=0      y_pred=1      Wrong prediction\n",
      "entry: x1=1      w1=4      x2=1      w2=0      y=0      y_pred=1      error: w's updated\n",
      "entry: x1=10     w1=4      x2=2      w2=0      y=1      y_pred=1      Correct prediction\n",
      "entry: x1=5      w1=4      x2=3      w2=0      y=1      y_pred=1      Correct prediction\n",
      "\n",
      "****** Iteration 6\n",
      "entry: x1=1      w1=4      x2=1      w2=0      y=0      y_pred=1      Wrong prediction\n",
      "entry: x1=1      w1=3      x2=1      w2=-1     y=0      y_pred=1      error: w's updated\n",
      "entry: x1=10     w1=3      x2=2      w2=-1     y=1      y_pred=1      Correct prediction\n",
      "entry: x1=5      w1=3      x2=3      w2=-1     y=1      y_pred=1      Correct prediction\n",
      "\n",
      "****** Iteration 7\n",
      "entry: x1=1      w1=3      x2=1      w2=-1     y=0      y_pred=1      Wrong prediction\n",
      "entry: x1=1      w1=2      x2=1      w2=-2     y=0      y_pred=1      error: w's updated\n",
      "entry: x1=10     w1=2      x2=2      w2=-2     y=1      y_pred=1      Correct prediction\n",
      "entry: x1=5      w1=2      x2=3      w2=-2     y=1      y_pred=1      Correct prediction\n",
      "\n",
      "Converged in 7 iterations\n",
      "entry: x1=1      w1=2      x2=1      w2=-2     y=0      y_pred=0     \n",
      "entry: x1=10     w1=2      x2=2      w2=-2     y=1      y_pred=1     \n",
      "entry: x1=5      w1=2      x2=3      w2=-2     y=1      y_pred=1     \n"
     ]
    }
   ],
   "source": [
    "pd.set_option('display.max_rows', 500)\n",
    "\n",
    "w = np.random.randint(10, size=2) # begin by creating a random vector of weights\n",
    "\n",
    "max_iterations = 20 # set an upper limit - if not converged in this many iterations, stop\n",
    "\n",
    "iter = 0 # set the iteration count to zero\n",
    "while not is_converged(X, w, y) and iter < max_iterations: # we keep looping until we reach max iterations or converge on solution\n",
    "    iter += 1\n",
    "    print(\"\\n****** Iteration\", iter)\n",
    "\n",
    "    for i in range(len(X)):  # for each observation in our data\n",
    "\n",
    "        y_pred = activation(X[i], w)  # get the prediction\n",
    "\n",
    "        print(f\"entry: x1={X[i][0]:<6} w1={w[0]:<6} x2={X[i][1]:<6} w2={w[1]:<6} y={y[i]:<6} y_pred={y_pred:<6}\", end=\" \")\n",
    "        if y_pred != y[i]:     # if the prediction is wrong\n",
    "            print(\"Wrong prediction\")\n",
    "            if y[i] == 1:      # if the correct answer is 1, we predicted 0, so we need to increase w\n",
    "                w = w + X[i]\n",
    "            else:              # if the correct answer is 0, we predicted 1, so we need to decrease w\n",
    "                w = w - X[i]\n",
    "            print(f\"entry: x1={X[i][0]:<6} w1={w[0]:<6} x2={X[i][1]:<6} w2={w[1]:<6} y={y[i]:<6} y_pred={y_pred:<6} error: w's updated\")\n",
    "        else:\n",
    "            print(\"Correct prediction\")\n",
    "#            print(f\"entry: x1={X[i][0]:<6} w1={w[0]:<6} x2={X[i][1]:<6} w2={w[1]:<6} y={y[i]:<6} y_pred={y_pred:<6} no error: w's not updated\")\n",
    "\n",
    "\n",
    "if iter == max_iterations:\n",
    "    print(\"\\nNot Converged after reaching max_iterations\")\n",
    "else:\n",
    "    print(f\"\\nConverged in {iter} iterations\")\n",
    "    for i in range(len(X)):\n",
    "        print(f\"entry: x1={X[i][0]:<6} w1={w[0]:<6} x2={X[i][1]:<6} w2={w[1]:<6} y={y[i]:<6} y_pred={activation(X[i], w):<6}\")"
   ]
  }
 ],
 "metadata": {
  "kernelspec": {
   "display_name": "Python 3 (ipykernel)",
   "language": "python",
   "name": "python3"
  },
  "language_info": {
   "codemirror_mode": {
    "name": "ipython",
    "version": 3
   },
   "file_extension": ".py",
   "mimetype": "text/x-python",
   "name": "python",
   "nbconvert_exporter": "python",
   "pygments_lexer": "ipython3",
   "version": "3.9.16"
  },
  "varInspector": {
   "cols": {
    "lenName": 16,
    "lenType": 16,
    "lenVar": 40
   },
   "kernels_config": {
    "python": {
     "delete_cmd_postfix": "",
     "delete_cmd_prefix": "del ",
     "library": "var_list.py",
     "varRefreshCmd": "print(var_dic_list())"
    },
    "r": {
     "delete_cmd_postfix": ") ",
     "delete_cmd_prefix": "rm(",
     "library": "var_list.r",
     "varRefreshCmd": "cat(var_dic_list()) "
    }
   },
   "types_to_exclude": [
    "module",
    "function",
    "builtin_function_or_method",
    "instance",
    "_Feature"
   ],
   "window_display": false
  },
  "vscode": {
   "interpreter": {
    "hash": "b056086e24cb5602cbcb82122035cd3d6ee2ccbf5df29c16e348c108b0f83be3"
   }
  }
 },
 "nbformat": 4,
 "nbformat_minor": 4
}
