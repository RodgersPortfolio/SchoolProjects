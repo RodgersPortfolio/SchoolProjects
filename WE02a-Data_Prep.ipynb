{
 "cells": [
  {
   "cell_type": "markdown",
   "id": "f44425e3",
   "metadata": {},
   "source": [
    "# Week 2 Exercise A: Data Generation\n",
    "# Name: Rodgers Okeyo Ochieng\n",
    "Description: Create one input variable and one target variable. Randomly select input variables from a uniform distribution with values from 10 to 100.  Create a target variable where values greater than or equal to 55 are considered True, and any values less than 55, are considered False. "
   ]
  },
  {
   "cell_type": "code",
   "execution_count": 56,
   "id": "8b280488",
   "metadata": {},
   "outputs": [],
   "source": [
    "import pandas as pd\n",
    "import numpy as np\n",
    "import matplotlib.pyplot as plt\n",
    "\n",
    "np.random.seed(1)"
   ]
  },
  {
   "cell_type": "markdown",
   "id": "8eebf41e",
   "metadata": {},
   "source": [
    "## Generate X Values"
   ]
  },
  {
   "cell_type": "code",
   "execution_count": 57,
   "id": "05ee6b4e",
   "metadata": {},
   "outputs": [
    {
     "data": {
      "text/plain": [
       "(1000,)"
      ]
     },
     "execution_count": 57,
     "metadata": {},
     "output_type": "execute_result"
    }
   ],
   "source": [
    "X = np.random.randint(low=10, high=100, size=1000)\n",
    "X.shape"
   ]
  },
  {
   "cell_type": "code",
   "execution_count": 58,
   "id": "d8ba0bfa-6642-41ab-9593-dbf06bc9a77d",
   "metadata": {},
   "outputs": [
    {
     "data": {
      "text/plain": [
       "(1000,)"
      ]
     },
     "execution_count": 58,
     "metadata": {},
     "output_type": "execute_result"
    }
   ],
   "source": [
    "X.shape"
   ]
  },
  {
   "cell_type": "markdown",
   "id": "5b7a22e2",
   "metadata": {},
   "source": [
    "## Generate Y Values"
   ]
  },
  {
   "cell_type": "code",
   "execution_count": 59,
   "id": "5a3052ac",
   "metadata": {},
   "outputs": [
    {
     "data": {
      "text/plain": [
       "(1000,)"
      ]
     },
     "execution_count": 59,
     "metadata": {},
     "output_type": "execute_result"
    }
   ],
   "source": [
    "y = X >= 55\n",
    "y.shape"
   ]
  },
  {
   "cell_type": "markdown",
   "id": "dcc141b3",
   "metadata": {},
   "source": [
    "## Add some noise"
   ]
  },
  {
   "cell_type": "code",
   "execution_count": 64,
   "id": "d317574f",
   "metadata": {},
   "outputs": [],
   "source": [
    "noise = np.random.normal(loc=0, scale=8, size=X.shape)\n",
    "\n",
    "# Add noise to X\n",
    "X = X + noise"
   ]
  },
  {
   "cell_type": "markdown",
   "id": "2605bf6a",
   "metadata": {},
   "source": [
    "## Create Dataframe"
   ]
  },
  {
   "cell_type": "code",
   "execution_count": 65,
   "id": "4870d98c-1814-402c-aeae-93446e30e550",
   "metadata": {},
   "outputs": [
    {
     "data": {
      "text/plain": [
       "(1000,)"
      ]
     },
     "execution_count": 65,
     "metadata": {},
     "output_type": "execute_result"
    }
   ],
   "source": [
    "X.shape"
   ]
  },
  {
   "cell_type": "code",
   "execution_count": 66,
   "id": "abd6fc21",
   "metadata": {},
   "outputs": [
    {
     "data": {
      "text/plain": [
       "<bound method NDFrame.head of               X  y\n",
       "0     55.651686  0\n",
       "1     31.934772  0\n",
       "2     78.071906  1\n",
       "3     16.545959  0\n",
       "4     85.562623  1\n",
       "..          ... ..\n",
       "995  104.781297  1\n",
       "996   69.568362  1\n",
       "997   33.823797  0\n",
       "998   25.884983  0\n",
       "999   44.716960  0\n",
       "\n",
       "[1000 rows x 2 columns]>"
      ]
     },
     "execution_count": 66,
     "metadata": {},
     "output_type": "execute_result"
    }
   ],
   "source": [
    "df = pd.DataFrame()\n",
    "df['X']= X.flatten()\n",
    "df['y']=y.flatten().astype(int)\n",
    "df.head"
   ]
  },
  {
   "cell_type": "markdown",
   "id": "c151738b",
   "metadata": {},
   "source": [
    "## Plot Data "
   ]
  },
  {
   "cell_type": "code",
   "execution_count": 67,
   "id": "e6ead974",
   "metadata": {},
   "outputs": [
    {
     "data": {
      "text/plain": [
       "<Axes: xlabel='X', ylabel='y'>"
      ]
     },
     "execution_count": 67,
     "metadata": {},
     "output_type": "execute_result"
    },
    {
     "data": {
      "image/png": "[encoded data removed]",
      "text/plain": [
       "<Figure size 1000x600 with 1 Axes>"
      ]
     },
     "metadata": {},
     "output_type": "display_data"
    }
   ],
   "source": [
    "df.plot.scatter(x='X', y='y', figsize =(10, 6))"
   ]
  },
  {
   "cell_type": "markdown",
   "id": "da53027c",
   "metadata": {},
   "source": [
    "## Save Data"
   ]
  },
  {
   "cell_type": "code",
   "execution_count": 68,
   "id": "a028cab2",
   "metadata": {},
   "outputs": [],
   "source": [
    "df.to_csv('week2data.csv', index=False)"
   ]
  }
 ],
 "metadata": {
  "kernelspec": {
   "display_name": "Python 3 (ipykernel)",
   "language": "python",
   "name": "python3"
  },
  "language_info": {
   "codemirror_mode": {
    "name": "ipython",
    "version": 3
   },
   "file_extension": ".py",
   "mimetype": "text/x-python",
   "name": "python",
   "nbconvert_exporter": "python",
   "pygments_lexer": "ipython3",
   "version": "3.10.9"
  },
  "varInspector": {
   "cols": {
    "lenName": 16,
    "lenType": 16,
    "lenVar": 40
   },
   "kernels_config": {
    "python": {
     "delete_cmd_postfix": "",
     "delete_cmd_prefix": "del ",
     "library": "var_list.py",
     "varRefreshCmd": "print(var_dic_list())"
    },
    "r": {
     "delete_cmd_postfix": ") ",
     "delete_cmd_prefix": "rm(",
     "library": "var_list.r",
     "varRefreshCmd": "cat(var_dic_list()) "
    }
   },
   "types_to_exclude": [
    "module",
    "function",
    "builtin_function_or_method",
    "instance",
    "_Feature"
   ],
   "window_display": false
  }
 },
 "nbformat": 4,
 "nbformat_minor": 5
}
