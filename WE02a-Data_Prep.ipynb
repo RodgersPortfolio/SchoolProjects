{
 "cells": [
  {
   "cell_type": "markdown",
   "id": "f44425e3",
   "metadata": {},
   "source": [
    "# Week 2 Exercise A: Data Generation\n",
    "# Name: Rodgers Okeyo Ochieng\n",
    "Description: Create one input variable and one target variable. Randomly select input variables from a uniform distribution with values from 10 to 100.  Create a target variable where values greater than or equal to 55 are considered True, and any values less than 55, are considered False. "
   ]
  },
  {
   "cell_type": "code",
   "execution_count": 24,
   "id": "8b280488",
   "metadata": {},
   "outputs": [],
   "source": [
    "import pandas as pd\n",
    "import numpy as np\n",
    "import matplotlib.pyplot as plt\n",
    "\n",
    "np.random.seed(8085)"
   ]
  },
  {
   "cell_type": "markdown",
   "id": "8eebf41e",
   "metadata": {},
   "source": [
    "## Generate X Values"
   ]
  },
  {
   "cell_type": "code",
   "execution_count": 25,
   "id": "05ee6b4e",
   "metadata": {},
   "outputs": [
    {
     "data": {
      "text/plain": [
       "(1000, 2)"
      ]
     },
     "execution_count": 25,
     "metadata": {},
     "output_type": "execute_result"
    }
   ],
   "source": [
    "X = np.random.uniform(10, 100, (1000, 2))\n",
    "X.shape"
   ]
  },
  {
   "cell_type": "markdown",
   "id": "5b7a22e2",
   "metadata": {},
   "source": [
    "## Generate Y Values"
   ]
  },
  {
   "cell_type": "code",
   "execution_count": 26,
   "id": "5a3052ac",
   "metadata": {},
   "outputs": [],
   "source": [
    "y = X >= 55\n"
   ]
  },
  {
   "cell_type": "markdown",
   "id": "dcc141b3",
   "metadata": {},
   "source": [
    "## Add some noise"
   ]
  },
  {
   "cell_type": "code",
   "execution_count": 27,
   "id": "d317574f",
   "metadata": {},
   "outputs": [
    {
     "data": {
      "text/plain": [
       "array([[38.58130459, 52.38797294],\n",
       "       [34.77874964, 60.03752537],\n",
       "       [32.49219515, 61.37028237]])"
      ]
     },
     "execution_count": 27,
     "metadata": {},
     "output_type": "execute_result"
    }
   ],
   "source": [
    "X = X + np.random.normal(0, 3, (len(X), 1))\n",
    "X[:3]"
   ]
  },
  {
   "cell_type": "markdown",
   "id": "2605bf6a",
   "metadata": {},
   "source": [
    "## Create Dataframe"
   ]
  },
  {
   "cell_type": "code",
   "execution_count": 28,
   "id": "abd6fc21",
   "metadata": {},
   "outputs": [
    {
     "data": {
      "text/plain": [
       "<bound method NDFrame.head of               X  y\n",
       "0     38.581305  0\n",
       "1     52.387973  0\n",
       "2     34.778750  0\n",
       "3     60.037525  1\n",
       "4     32.492195  0\n",
       "...         ... ..\n",
       "1995  41.143508  0\n",
       "1996  14.474625  0\n",
       "1997  16.573468  0\n",
       "1998  44.352469  0\n",
       "1999  12.372120  0\n",
       "\n",
       "[2000 rows x 2 columns]>"
      ]
     },
     "execution_count": 28,
     "metadata": {},
     "output_type": "execute_result"
    }
   ],
   "source": [
    "df = pd.DataFrame()\n",
    "df['X']= X.flatten()\n",
    "df['y']=y.flatten().astype(int)\n",
    "df.head"
   ]
  },
  {
   "cell_type": "markdown",
   "id": "c151738b",
   "metadata": {},
   "source": [
    "## Plot Data "
   ]
  },
  {
   "cell_type": "code",
   "execution_count": 29,
   "id": "e6ead974",
   "metadata": {},
   "outputs": [
    {
     "data": {
      "text/plain": [
       "<Axes: xlabel='X', ylabel='y'>"
      ]
     },
     "execution_count": 29,
     "metadata": {},
     "output_type": "execute_result"
    },
    {
     "data": {
      "image/png": "[encoded data removed]",
      "text/plain": [
       "<Figure size 1000x600 with 1 Axes>"
      ]
     },
     "metadata": {},
     "output_type": "display_data"
    }
   ],
   "source": [
    "df.plot.scatter(x='X', y='y', figsize =(10, 6))"
   ]
  },
  {
   "cell_type": "markdown",
   "id": "da53027c",
   "metadata": {},
   "source": [
    "## Save Data"
   ]
  },
  {
   "cell_type": "code",
   "execution_count": 30,
   "id": "a028cab2",
   "metadata": {},
   "outputs": [],
   "source": [
    "df.to_csv('week2data.csv', index=False)"
   ]
  }
 ],
 "metadata": {
  "kernelspec": {
   "display_name": "Python 3 (ipykernel)",
   "language": "python",
   "name": "python3"
  },
  "language_info": {
   "codemirror_mode": {
    "name": "ipython",
    "version": 3
   },
   "file_extension": ".py",
   "mimetype": "text/x-python",
   "name": "python",
   "nbconvert_exporter": "python",
   "pygments_lexer": "ipython3",
   "version": "3.10.9"
  },
  "varInspector": {
   "cols": {
    "lenName": 16,
    "lenType": 16,
    "lenVar": 40
   },
   "kernels_config": {
    "python": {
     "delete_cmd_postfix": "",
     "delete_cmd_prefix": "del ",
     "library": "var_list.py",
     "varRefreshCmd": "print(var_dic_list())"
    },
    "r": {
     "delete_cmd_postfix": ") ",
     "delete_cmd_prefix": "rm(",
     "library": "var_list.r",
     "varRefreshCmd": "cat(var_dic_list()) "
    }
   },
   "types_to_exclude": [
    "module",
    "function",
    "builtin_function_or_method",
    "instance",
    "_Feature"
   ],
   "window_display": false
  }
 },
 "nbformat": 4,
 "nbformat_minor": 5
}
